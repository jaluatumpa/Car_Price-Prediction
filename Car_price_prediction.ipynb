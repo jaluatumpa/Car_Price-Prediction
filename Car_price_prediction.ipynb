{
 "cells": [
  {
   "cell_type": "markdown",
   "metadata": {
    "id": "Ep-iHV4iibrM"
   },
   "source": [
    "# Car Price Prediction"
   ]
  },
  {
   "cell_type": "markdown",
   "metadata": {
    "id": "ktSqGEjJHtPW"
   },
   "source": [
    ".Table of content:\n",
    "\n",
    ".Import Libraries\n",
    "\n",
    ".Data Exploring\n",
    "\n",
    ".Data Cleaning\n",
    "\n",
    ".Data Analysis and Visulizations\n",
    "\n",
    ".Feature Engneering\n",
    "\n",
    ".Linear Regression Models\n",
    "\n",
    ".Ridge Regression models\n",
    "\n",
    ".Lesso Regresssion models\n",
    "\n",
    ".Random Forest models\n",
    ".Conclusion"
   ]
  },
  {
   "cell_type": "code",
   "execution_count": 1,
   "metadata": {
    "id": "PoM7UZ5LH0V2"
   },
   "outputs": [],
   "source": [
    "import numpy as np\n",
    "import pandas as pd\n",
    "import matplotlib.pyplot as plt\n",
    "import numpy as np\n",
    "import seaborn as sns\n",
    "%matplotlib inline\n"
   ]
  },
  {
   "cell_type": "code",
   "execution_count": 2,
   "metadata": {
    "id": "3h47BaemICk6"
   },
   "outputs": [],
   "source": [
    "\n",
    "from sklearn.preprocessing import StandardScaler\n",
    "from sklearn.preprocessing import LabelEncoder\n",
    "from sklearn.preprocessing import OneHotEncoder\n",
    "from sklearn.preprocessing import OrdinalEncoder\n",
    "from sklearn.compose import ColumnTransformer"
   ]
  },
  {
   "cell_type": "code",
   "execution_count": 3,
   "metadata": {
    "id": "2KtORksPat5O"
   },
   "outputs": [],
   "source": [
    "from sklearn.model_selection import train_test_split\n",
    "from sklearn.linear_model import LinearRegression\n",
    "from sklearn.linear_model import Ridge, Lasso\n",
    "from sklearn.ensemble import RandomForestRegressor\n",
    "from sklearn import metrics\n",
    "from sklearn.metrics import mean_squared_error, mean_absolute_error,  r2_score, mean_squared_log_error\n",
    "import warnings\n",
    "warnings.filterwarnings('ignore')"
   ]
  },
  {
   "cell_type": "code",
   "execution_count": 4,
   "metadata": {
    "colab": {
     "base_uri": "https://localhost:8080/",
     "height": 334
    },
    "executionInfo": {
     "elapsed": 51644,
     "status": "ok",
     "timestamp": 1691737770718,
     "user": {
      "displayName": "Tumpa Jalua ma22m024",
      "userId": "00308053716396028083"
     },
     "user_tz": -330
    },
    "id": "ovcBnSQ2IKmi",
    "outputId": "db968767-ec63-4324-a5aa-934ae2376c4c"
   },
   "outputs": [
    {
     "data": {
      "text/html": [
       "<div>\n",
       "<style scoped>\n",
       "    .dataframe tbody tr th:only-of-type {\n",
       "        vertical-align: middle;\n",
       "    }\n",
       "\n",
       "    .dataframe tbody tr th {\n",
       "        vertical-align: top;\n",
       "    }\n",
       "\n",
       "    .dataframe thead th {\n",
       "        text-align: right;\n",
       "    }\n",
       "</style>\n",
       "<table border=\"1\" class=\"dataframe\">\n",
       "  <thead>\n",
       "    <tr style=\"text-align: right;\">\n",
       "      <th></th>\n",
       "      <th>id</th>\n",
       "      <th>url</th>\n",
       "      <th>region</th>\n",
       "      <th>region_url</th>\n",
       "      <th>price</th>\n",
       "      <th>year</th>\n",
       "      <th>manufacturer</th>\n",
       "      <th>model</th>\n",
       "      <th>condition</th>\n",
       "      <th>cylinders</th>\n",
       "      <th>...</th>\n",
       "      <th>size</th>\n",
       "      <th>type</th>\n",
       "      <th>paint_color</th>\n",
       "      <th>image_url</th>\n",
       "      <th>description</th>\n",
       "      <th>county</th>\n",
       "      <th>state</th>\n",
       "      <th>lat</th>\n",
       "      <th>long</th>\n",
       "      <th>posting_date</th>\n",
       "    </tr>\n",
       "  </thead>\n",
       "  <tbody>\n",
       "    <tr>\n",
       "      <th>0</th>\n",
       "      <td>7222695916</td>\n",
       "      <td>https://prescott.craigslist.org/cto/d/prescott...</td>\n",
       "      <td>prescott</td>\n",
       "      <td>https://prescott.craigslist.org</td>\n",
       "      <td>6000</td>\n",
       "      <td>NaN</td>\n",
       "      <td>NaN</td>\n",
       "      <td>NaN</td>\n",
       "      <td>NaN</td>\n",
       "      <td>NaN</td>\n",
       "      <td>...</td>\n",
       "      <td>NaN</td>\n",
       "      <td>NaN</td>\n",
       "      <td>NaN</td>\n",
       "      <td>NaN</td>\n",
       "      <td>NaN</td>\n",
       "      <td>NaN</td>\n",
       "      <td>az</td>\n",
       "      <td>NaN</td>\n",
       "      <td>NaN</td>\n",
       "      <td>NaN</td>\n",
       "    </tr>\n",
       "    <tr>\n",
       "      <th>1</th>\n",
       "      <td>7218891961</td>\n",
       "      <td>https://fayar.craigslist.org/ctd/d/bentonville...</td>\n",
       "      <td>fayetteville</td>\n",
       "      <td>https://fayar.craigslist.org</td>\n",
       "      <td>11900</td>\n",
       "      <td>NaN</td>\n",
       "      <td>NaN</td>\n",
       "      <td>NaN</td>\n",
       "      <td>NaN</td>\n",
       "      <td>NaN</td>\n",
       "      <td>...</td>\n",
       "      <td>NaN</td>\n",
       "      <td>NaN</td>\n",
       "      <td>NaN</td>\n",
       "      <td>NaN</td>\n",
       "      <td>NaN</td>\n",
       "      <td>NaN</td>\n",
       "      <td>ar</td>\n",
       "      <td>NaN</td>\n",
       "      <td>NaN</td>\n",
       "      <td>NaN</td>\n",
       "    </tr>\n",
       "    <tr>\n",
       "      <th>2</th>\n",
       "      <td>7221797935</td>\n",
       "      <td>https://keys.craigslist.org/cto/d/summerland-k...</td>\n",
       "      <td>florida keys</td>\n",
       "      <td>https://keys.craigslist.org</td>\n",
       "      <td>21000</td>\n",
       "      <td>NaN</td>\n",
       "      <td>NaN</td>\n",
       "      <td>NaN</td>\n",
       "      <td>NaN</td>\n",
       "      <td>NaN</td>\n",
       "      <td>...</td>\n",
       "      <td>NaN</td>\n",
       "      <td>NaN</td>\n",
       "      <td>NaN</td>\n",
       "      <td>NaN</td>\n",
       "      <td>NaN</td>\n",
       "      <td>NaN</td>\n",
       "      <td>fl</td>\n",
       "      <td>NaN</td>\n",
       "      <td>NaN</td>\n",
       "      <td>NaN</td>\n",
       "    </tr>\n",
       "    <tr>\n",
       "      <th>3</th>\n",
       "      <td>7222270760</td>\n",
       "      <td>https://worcester.craigslist.org/cto/d/west-br...</td>\n",
       "      <td>worcester / central MA</td>\n",
       "      <td>https://worcester.craigslist.org</td>\n",
       "      <td>1500</td>\n",
       "      <td>NaN</td>\n",
       "      <td>NaN</td>\n",
       "      <td>NaN</td>\n",
       "      <td>NaN</td>\n",
       "      <td>NaN</td>\n",
       "      <td>...</td>\n",
       "      <td>NaN</td>\n",
       "      <td>NaN</td>\n",
       "      <td>NaN</td>\n",
       "      <td>NaN</td>\n",
       "      <td>NaN</td>\n",
       "      <td>NaN</td>\n",
       "      <td>ma</td>\n",
       "      <td>NaN</td>\n",
       "      <td>NaN</td>\n",
       "      <td>NaN</td>\n",
       "    </tr>\n",
       "    <tr>\n",
       "      <th>4</th>\n",
       "      <td>7210384030</td>\n",
       "      <td>https://greensboro.craigslist.org/cto/d/trinit...</td>\n",
       "      <td>greensboro</td>\n",
       "      <td>https://greensboro.craigslist.org</td>\n",
       "      <td>4900</td>\n",
       "      <td>NaN</td>\n",
       "      <td>NaN</td>\n",
       "      <td>NaN</td>\n",
       "      <td>NaN</td>\n",
       "      <td>NaN</td>\n",
       "      <td>...</td>\n",
       "      <td>NaN</td>\n",
       "      <td>NaN</td>\n",
       "      <td>NaN</td>\n",
       "      <td>NaN</td>\n",
       "      <td>NaN</td>\n",
       "      <td>NaN</td>\n",
       "      <td>nc</td>\n",
       "      <td>NaN</td>\n",
       "      <td>NaN</td>\n",
       "      <td>NaN</td>\n",
       "    </tr>\n",
       "  </tbody>\n",
       "</table>\n",
       "<p>5 rows × 26 columns</p>\n",
       "</div>"
      ],
      "text/plain": [
       "           id                                                url  \\\n",
       "0  7222695916  https://prescott.craigslist.org/cto/d/prescott...   \n",
       "1  7218891961  https://fayar.craigslist.org/ctd/d/bentonville...   \n",
       "2  7221797935  https://keys.craigslist.org/cto/d/summerland-k...   \n",
       "3  7222270760  https://worcester.craigslist.org/cto/d/west-br...   \n",
       "4  7210384030  https://greensboro.craigslist.org/cto/d/trinit...   \n",
       "\n",
       "                   region                         region_url  price  year  \\\n",
       "0                prescott    https://prescott.craigslist.org   6000   NaN   \n",
       "1            fayetteville       https://fayar.craigslist.org  11900   NaN   \n",
       "2            florida keys        https://keys.craigslist.org  21000   NaN   \n",
       "3  worcester / central MA   https://worcester.craigslist.org   1500   NaN   \n",
       "4              greensboro  https://greensboro.craigslist.org   4900   NaN   \n",
       "\n",
       "  manufacturer model condition cylinders  ... size  type paint_color  \\\n",
       "0          NaN   NaN       NaN       NaN  ...  NaN   NaN         NaN   \n",
       "1          NaN   NaN       NaN       NaN  ...  NaN   NaN         NaN   \n",
       "2          NaN   NaN       NaN       NaN  ...  NaN   NaN         NaN   \n",
       "3          NaN   NaN       NaN       NaN  ...  NaN   NaN         NaN   \n",
       "4          NaN   NaN       NaN       NaN  ...  NaN   NaN         NaN   \n",
       "\n",
       "  image_url description county state lat long posting_date  \n",
       "0       NaN         NaN    NaN    az NaN  NaN          NaN  \n",
       "1       NaN         NaN    NaN    ar NaN  NaN          NaN  \n",
       "2       NaN         NaN    NaN    fl NaN  NaN          NaN  \n",
       "3       NaN         NaN    NaN    ma NaN  NaN          NaN  \n",
       "4       NaN         NaN    NaN    nc NaN  NaN          NaN  \n",
       "\n",
       "[5 rows x 26 columns]"
      ]
     },
     "execution_count": 4,
     "metadata": {},
     "output_type": "execute_result"
    }
   ],
   "source": [
    "df=pd.read_csv(\"vehicles.csv\")\n",
    "df.head(5)"
   ]
  },
  {
   "cell_type": "code",
   "execution_count": 5,
   "metadata": {
    "colab": {
     "base_uri": "https://localhost:8080/"
    },
    "executionInfo": {
     "elapsed": 6,
     "status": "ok",
     "timestamp": 1691737770719,
     "user": {
      "displayName": "Tumpa Jalua ma22m024",
      "userId": "00308053716396028083"
     },
     "user_tz": -330
    },
    "id": "TESKEPzsOKdt",
    "outputId": "bfc69568-24cb-47fc-d29e-6bc2d179506b"
   },
   "outputs": [
    {
     "data": {
      "text/plain": [
       "(426880, 26)"
      ]
     },
     "execution_count": 5,
     "metadata": {},
     "output_type": "execute_result"
    }
   ],
   "source": [
    "df.shape"
   ]
  },
  {
   "cell_type": "markdown",
   "metadata": {
    "id": "X9RKK9XSIKo_"
   },
   "source": [
    "#### Data Exploring:"
   ]
  },
  {
   "cell_type": "code",
   "execution_count": 6,
   "metadata": {
    "colab": {
     "base_uri": "https://localhost:8080/",
     "height": 1000
    },
    "executionInfo": {
     "elapsed": 2221,
     "status": "ok",
     "timestamp": 1691737772936,
     "user": {
      "displayName": "Tumpa Jalua ma22m024",
      "userId": "00308053716396028083"
     },
     "user_tz": -330
    },
    "id": "t8rPTYYLIKrg",
    "outputId": "fe2d2fd6-31a6-49cd-eaa2-ef664e254cdc"
   },
   "outputs": [
    {
     "data": {
      "text/html": [
       "<div>\n",
       "<style scoped>\n",
       "    .dataframe tbody tr th:only-of-type {\n",
       "        vertical-align: middle;\n",
       "    }\n",
       "\n",
       "    .dataframe tbody tr th {\n",
       "        vertical-align: top;\n",
       "    }\n",
       "\n",
       "    .dataframe thead th {\n",
       "        text-align: right;\n",
       "    }\n",
       "</style>\n",
       "<table border=\"1\" class=\"dataframe\">\n",
       "  <thead>\n",
       "    <tr style=\"text-align: right;\">\n",
       "      <th></th>\n",
       "      <th>id</th>\n",
       "      <th>url</th>\n",
       "      <th>region</th>\n",
       "      <th>region_url</th>\n",
       "      <th>price</th>\n",
       "      <th>year</th>\n",
       "      <th>manufacturer</th>\n",
       "      <th>model</th>\n",
       "      <th>condition</th>\n",
       "      <th>cylinders</th>\n",
       "      <th>...</th>\n",
       "      <th>size</th>\n",
       "      <th>type</th>\n",
       "      <th>paint_color</th>\n",
       "      <th>image_url</th>\n",
       "      <th>description</th>\n",
       "      <th>county</th>\n",
       "      <th>state</th>\n",
       "      <th>lat</th>\n",
       "      <th>long</th>\n",
       "      <th>posting_date</th>\n",
       "    </tr>\n",
       "  </thead>\n",
       "  <tbody>\n",
       "    <tr>\n",
       "      <th>199370</th>\n",
       "      <td>7310581768</td>\n",
       "      <td>https://flint.craigslist.org/ctd/d/flint-2014-...</td>\n",
       "      <td>flint</td>\n",
       "      <td>https://flint.craigslist.org</td>\n",
       "      <td>19950</td>\n",
       "      <td>2014.0</td>\n",
       "      <td>gmc</td>\n",
       "      <td>sierra 1500</td>\n",
       "      <td>excellent</td>\n",
       "      <td>8 cylinders</td>\n",
       "      <td>...</td>\n",
       "      <td>full-size</td>\n",
       "      <td>truck</td>\n",
       "      <td>black</td>\n",
       "      <td>https://images.craigslist.org/00l0l_jqI3ucR5yM...</td>\n",
       "      <td>FOR TEST DRIVES OR MORE INFO CALL/TXT DYLAN: 8...</td>\n",
       "      <td>NaN</td>\n",
       "      <td>mi</td>\n",
       "      <td>42.944251</td>\n",
       "      <td>-83.730441</td>\n",
       "      <td>2021-04-21T18:03:22-0400</td>\n",
       "    </tr>\n",
       "    <tr>\n",
       "      <th>37441</th>\n",
       "      <td>7314014192</td>\n",
       "      <td>https://modesto.craigslist.org/ctd/d/sacrament...</td>\n",
       "      <td>modesto</td>\n",
       "      <td>https://modesto.craigslist.org</td>\n",
       "      <td>8498</td>\n",
       "      <td>2014.0</td>\n",
       "      <td>subaru</td>\n",
       "      <td>forester</td>\n",
       "      <td>excellent</td>\n",
       "      <td>NaN</td>\n",
       "      <td>...</td>\n",
       "      <td>NaN</td>\n",
       "      <td>wagon</td>\n",
       "      <td>grey</td>\n",
       "      <td>https://images.craigslist.org/00G0G_eTe3GDPccr...</td>\n",
       "      <td>Drive it home today. Call (Or Text) us now !!C...</td>\n",
       "      <td>NaN</td>\n",
       "      <td>ca</td>\n",
       "      <td>38.641098</td>\n",
       "      <td>-121.428624</td>\n",
       "      <td>2021-04-28T13:15:48-0700</td>\n",
       "    </tr>\n",
       "    <tr>\n",
       "      <th>118284</th>\n",
       "      <td>7314328839</td>\n",
       "      <td>https://tampa.craigslist.org/pnl/cto/d/clearwa...</td>\n",
       "      <td>tampa bay area</td>\n",
       "      <td>https://tampa.craigslist.org</td>\n",
       "      <td>9500</td>\n",
       "      <td>2009.0</td>\n",
       "      <td>ford</td>\n",
       "      <td>ranger xlt</td>\n",
       "      <td>NaN</td>\n",
       "      <td>NaN</td>\n",
       "      <td>...</td>\n",
       "      <td>NaN</td>\n",
       "      <td>NaN</td>\n",
       "      <td>NaN</td>\n",
       "      <td>https://images.craigslist.org/00z0z_jI5995E2Wn...</td>\n",
       "      <td>2009 Ford Ranger XL 6 ft bed 4 cyl 2.3 1 Owner...</td>\n",
       "      <td>NaN</td>\n",
       "      <td>fl</td>\n",
       "      <td>27.900400</td>\n",
       "      <td>-82.715200</td>\n",
       "      <td>2021-04-29T11:29:41-0400</td>\n",
       "    </tr>\n",
       "    <tr>\n",
       "      <th>317824</th>\n",
       "      <td>7310994748</td>\n",
       "      <td>https://eugene.craigslist.org/ctd/d/eugene-201...</td>\n",
       "      <td>eugene</td>\n",
       "      <td>https://eugene.craigslist.org</td>\n",
       "      <td>8988</td>\n",
       "      <td>2010.0</td>\n",
       "      <td>hyundai</td>\n",
       "      <td>santa fe</td>\n",
       "      <td>NaN</td>\n",
       "      <td>NaN</td>\n",
       "      <td>...</td>\n",
       "      <td>NaN</td>\n",
       "      <td>wagon</td>\n",
       "      <td>red</td>\n",
       "      <td>https://images.craigslist.org/00i0i_3CIYYRkoJY...</td>\n",
       "      <td>2010 Hyundai Santa Fe SE AWD 4dr SUV     Offer...</td>\n",
       "      <td>NaN</td>\n",
       "      <td>or</td>\n",
       "      <td>44.052940</td>\n",
       "      <td>-123.111880</td>\n",
       "      <td>2021-04-22T12:15:34-0700</td>\n",
       "    </tr>\n",
       "    <tr>\n",
       "      <th>185387</th>\n",
       "      <td>7303901858</td>\n",
       "      <td>https://westmd.craigslist.org/cto/d/hagerstown...</td>\n",
       "      <td>western maryland</td>\n",
       "      <td>https://westmd.craigslist.org</td>\n",
       "      <td>6995</td>\n",
       "      <td>2012.0</td>\n",
       "      <td>chrysler</td>\n",
       "      <td>200</td>\n",
       "      <td>excellent</td>\n",
       "      <td>NaN</td>\n",
       "      <td>...</td>\n",
       "      <td>NaN</td>\n",
       "      <td>NaN</td>\n",
       "      <td>white</td>\n",
       "      <td>https://images.craigslist.org/00u0u_5plquK9BDS...</td>\n",
       "      <td>2012 Chrysler 200 LTD 4D: Automatic, Garage Ke...</td>\n",
       "      <td>NaN</td>\n",
       "      <td>md</td>\n",
       "      <td>39.657300</td>\n",
       "      <td>-77.692100</td>\n",
       "      <td>2021-04-08T18:20:44-0400</td>\n",
       "    </tr>\n",
       "    <tr>\n",
       "      <th>368010</th>\n",
       "      <td>7308153776</td>\n",
       "      <td>https://corpuschristi.craigslist.org/ctd/d/cor...</td>\n",
       "      <td>corpus christi</td>\n",
       "      <td>https://corpuschristi.craigslist.org</td>\n",
       "      <td>21420</td>\n",
       "      <td>2019.0</td>\n",
       "      <td>nissan</td>\n",
       "      <td>pathfinder</td>\n",
       "      <td>NaN</td>\n",
       "      <td>6 cylinders</td>\n",
       "      <td>...</td>\n",
       "      <td>full-size</td>\n",
       "      <td>SUV</td>\n",
       "      <td>black</td>\n",
       "      <td>https://images.craigslist.org/00q0q_bumQDCRb5L...</td>\n",
       "      <td>SOLD!!!   This Nissan Pathfinder has just been...</td>\n",
       "      <td>NaN</td>\n",
       "      <td>tx</td>\n",
       "      <td>27.703573</td>\n",
       "      <td>-97.345045</td>\n",
       "      <td>2021-04-17T06:30:12-0500</td>\n",
       "    </tr>\n",
       "    <tr>\n",
       "      <th>418790</th>\n",
       "      <td>7309044542</td>\n",
       "      <td>https://racine.craigslist.org/cto/d/racine-200...</td>\n",
       "      <td>kenosha-racine</td>\n",
       "      <td>https://racine.craigslist.org</td>\n",
       "      <td>10500</td>\n",
       "      <td>2008.0</td>\n",
       "      <td>chevrolet</td>\n",
       "      <td>silverado 3500</td>\n",
       "      <td>excellent</td>\n",
       "      <td>NaN</td>\n",
       "      <td>...</td>\n",
       "      <td>mid-size</td>\n",
       "      <td>truck</td>\n",
       "      <td>white</td>\n",
       "      <td>https://images.craigslist.org/00r0r_p9oNecOIz1...</td>\n",
       "      <td>Just selling because I no longer need it. It r...</td>\n",
       "      <td>NaN</td>\n",
       "      <td>wi</td>\n",
       "      <td>42.772600</td>\n",
       "      <td>-87.796000</td>\n",
       "      <td>2021-04-18T20:21:17-0500</td>\n",
       "    </tr>\n",
       "    <tr>\n",
       "      <th>405221</th>\n",
       "      <td>7304628555</td>\n",
       "      <td>https://kpr.craigslist.org/ctd/d/kennewick-202...</td>\n",
       "      <td>kennewick-pasco-richland</td>\n",
       "      <td>https://kpr.craigslist.org</td>\n",
       "      <td>21998</td>\n",
       "      <td>2020.0</td>\n",
       "      <td>mitsubishi</td>\n",
       "      <td>outlander</td>\n",
       "      <td>new</td>\n",
       "      <td>NaN</td>\n",
       "      <td>...</td>\n",
       "      <td>NaN</td>\n",
       "      <td>NaN</td>\n",
       "      <td>black</td>\n",
       "      <td>https://images.craigslist.org/00u0u_jiTJVLIwLE...</td>\n",
       "      <td>Leskovar Mitsubishi address:    3020 W. Clearw...</td>\n",
       "      <td>NaN</td>\n",
       "      <td>wa</td>\n",
       "      <td>46.213805</td>\n",
       "      <td>-119.161041</td>\n",
       "      <td>2021-04-10T06:46:24-0700</td>\n",
       "    </tr>\n",
       "    <tr>\n",
       "      <th>92216</th>\n",
       "      <td>7315201336</td>\n",
       "      <td>https://daytona.craigslist.org/ctd/d/orlando-2...</td>\n",
       "      <td>daytona beach</td>\n",
       "      <td>https://daytona.craigslist.org</td>\n",
       "      <td>16590</td>\n",
       "      <td>2015.0</td>\n",
       "      <td>nissan</td>\n",
       "      <td>rogue</td>\n",
       "      <td>excellent</td>\n",
       "      <td>NaN</td>\n",
       "      <td>...</td>\n",
       "      <td>NaN</td>\n",
       "      <td>SUV</td>\n",
       "      <td>blue</td>\n",
       "      <td>https://images.craigslist.org/00m0m_lvP2zLAuTr...</td>\n",
       "      <td>Drive it home today. Call (Or Text) us now !!C...</td>\n",
       "      <td>NaN</td>\n",
       "      <td>fl</td>\n",
       "      <td>28.551277</td>\n",
       "      <td>-81.438392</td>\n",
       "      <td>2021-05-01T04:18:45-0400</td>\n",
       "    </tr>\n",
       "    <tr>\n",
       "      <th>232273</th>\n",
       "      <td>7315066670</td>\n",
       "      <td>https://charlotte.craigslist.org/ctd/d/salisbu...</td>\n",
       "      <td>charlotte</td>\n",
       "      <td>https://charlotte.craigslist.org</td>\n",
       "      <td>240</td>\n",
       "      <td>2018.0</td>\n",
       "      <td>chevrolet</td>\n",
       "      <td>trax lt</td>\n",
       "      <td>good</td>\n",
       "      <td>NaN</td>\n",
       "      <td>...</td>\n",
       "      <td>NaN</td>\n",
       "      <td>other</td>\n",
       "      <td>white</td>\n",
       "      <td>https://images.craigslist.org/00H0H_eu5natI2Bf...</td>\n",
       "      <td>Why Buy From Team Auto Group?At Team Auto Grou...</td>\n",
       "      <td>NaN</td>\n",
       "      <td>nc</td>\n",
       "      <td>35.648931</td>\n",
       "      <td>-80.492989</td>\n",
       "      <td>2021-04-30T18:30:30-0400</td>\n",
       "    </tr>\n",
       "  </tbody>\n",
       "</table>\n",
       "<p>10 rows × 26 columns</p>\n",
       "</div>"
      ],
      "text/plain": [
       "                id                                                url  \\\n",
       "199370  7310581768  https://flint.craigslist.org/ctd/d/flint-2014-...   \n",
       "37441   7314014192  https://modesto.craigslist.org/ctd/d/sacrament...   \n",
       "118284  7314328839  https://tampa.craigslist.org/pnl/cto/d/clearwa...   \n",
       "317824  7310994748  https://eugene.craigslist.org/ctd/d/eugene-201...   \n",
       "185387  7303901858  https://westmd.craigslist.org/cto/d/hagerstown...   \n",
       "368010  7308153776  https://corpuschristi.craigslist.org/ctd/d/cor...   \n",
       "418790  7309044542  https://racine.craigslist.org/cto/d/racine-200...   \n",
       "405221  7304628555  https://kpr.craigslist.org/ctd/d/kennewick-202...   \n",
       "92216   7315201336  https://daytona.craigslist.org/ctd/d/orlando-2...   \n",
       "232273  7315066670  https://charlotte.craigslist.org/ctd/d/salisbu...   \n",
       "\n",
       "                          region                            region_url  price  \\\n",
       "199370                     flint          https://flint.craigslist.org  19950   \n",
       "37441                    modesto        https://modesto.craigslist.org   8498   \n",
       "118284            tampa bay area          https://tampa.craigslist.org   9500   \n",
       "317824                    eugene         https://eugene.craigslist.org   8988   \n",
       "185387          western maryland         https://westmd.craigslist.org   6995   \n",
       "368010            corpus christi  https://corpuschristi.craigslist.org  21420   \n",
       "418790            kenosha-racine         https://racine.craigslist.org  10500   \n",
       "405221  kennewick-pasco-richland            https://kpr.craigslist.org  21998   \n",
       "92216              daytona beach        https://daytona.craigslist.org  16590   \n",
       "232273                 charlotte      https://charlotte.craigslist.org    240   \n",
       "\n",
       "          year manufacturer           model  condition    cylinders  ...  \\\n",
       "199370  2014.0          gmc     sierra 1500  excellent  8 cylinders  ...   \n",
       "37441   2014.0       subaru        forester  excellent          NaN  ...   \n",
       "118284  2009.0         ford      ranger xlt        NaN          NaN  ...   \n",
       "317824  2010.0      hyundai        santa fe        NaN          NaN  ...   \n",
       "185387  2012.0     chrysler             200  excellent          NaN  ...   \n",
       "368010  2019.0       nissan      pathfinder        NaN  6 cylinders  ...   \n",
       "418790  2008.0    chevrolet  silverado 3500  excellent          NaN  ...   \n",
       "405221  2020.0   mitsubishi       outlander        new          NaN  ...   \n",
       "92216   2015.0       nissan           rogue  excellent          NaN  ...   \n",
       "232273  2018.0    chevrolet         trax lt       good          NaN  ...   \n",
       "\n",
       "             size   type paint_color  \\\n",
       "199370  full-size  truck       black   \n",
       "37441         NaN  wagon        grey   \n",
       "118284        NaN    NaN         NaN   \n",
       "317824        NaN  wagon         red   \n",
       "185387        NaN    NaN       white   \n",
       "368010  full-size    SUV       black   \n",
       "418790   mid-size  truck       white   \n",
       "405221        NaN    NaN       black   \n",
       "92216         NaN    SUV        blue   \n",
       "232273        NaN  other       white   \n",
       "\n",
       "                                                image_url  \\\n",
       "199370  https://images.craigslist.org/00l0l_jqI3ucR5yM...   \n",
       "37441   https://images.craigslist.org/00G0G_eTe3GDPccr...   \n",
       "118284  https://images.craigslist.org/00z0z_jI5995E2Wn...   \n",
       "317824  https://images.craigslist.org/00i0i_3CIYYRkoJY...   \n",
       "185387  https://images.craigslist.org/00u0u_5plquK9BDS...   \n",
       "368010  https://images.craigslist.org/00q0q_bumQDCRb5L...   \n",
       "418790  https://images.craigslist.org/00r0r_p9oNecOIz1...   \n",
       "405221  https://images.craigslist.org/00u0u_jiTJVLIwLE...   \n",
       "92216   https://images.craigslist.org/00m0m_lvP2zLAuTr...   \n",
       "232273  https://images.craigslist.org/00H0H_eu5natI2Bf...   \n",
       "\n",
       "                                              description county state  \\\n",
       "199370  FOR TEST DRIVES OR MORE INFO CALL/TXT DYLAN: 8...    NaN    mi   \n",
       "37441   Drive it home today. Call (Or Text) us now !!C...    NaN    ca   \n",
       "118284  2009 Ford Ranger XL 6 ft bed 4 cyl 2.3 1 Owner...    NaN    fl   \n",
       "317824  2010 Hyundai Santa Fe SE AWD 4dr SUV     Offer...    NaN    or   \n",
       "185387  2012 Chrysler 200 LTD 4D: Automatic, Garage Ke...    NaN    md   \n",
       "368010  SOLD!!!   This Nissan Pathfinder has just been...    NaN    tx   \n",
       "418790  Just selling because I no longer need it. It r...    NaN    wi   \n",
       "405221  Leskovar Mitsubishi address:    3020 W. Clearw...    NaN    wa   \n",
       "92216   Drive it home today. Call (Or Text) us now !!C...    NaN    fl   \n",
       "232273  Why Buy From Team Auto Group?At Team Auto Grou...    NaN    nc   \n",
       "\n",
       "              lat        long              posting_date  \n",
       "199370  42.944251  -83.730441  2021-04-21T18:03:22-0400  \n",
       "37441   38.641098 -121.428624  2021-04-28T13:15:48-0700  \n",
       "118284  27.900400  -82.715200  2021-04-29T11:29:41-0400  \n",
       "317824  44.052940 -123.111880  2021-04-22T12:15:34-0700  \n",
       "185387  39.657300  -77.692100  2021-04-08T18:20:44-0400  \n",
       "368010  27.703573  -97.345045  2021-04-17T06:30:12-0500  \n",
       "418790  42.772600  -87.796000  2021-04-18T20:21:17-0500  \n",
       "405221  46.213805 -119.161041  2021-04-10T06:46:24-0700  \n",
       "92216   28.551277  -81.438392  2021-05-01T04:18:45-0400  \n",
       "232273  35.648931  -80.492989  2021-04-30T18:30:30-0400  \n",
       "\n",
       "[10 rows x 26 columns]"
      ]
     },
     "execution_count": 6,
     "metadata": {},
     "output_type": "execute_result"
    }
   ],
   "source": [
    "df.sample(10)"
   ]
  },
  {
   "cell_type": "markdown",
   "metadata": {
    "id": "peG5MmwQM8lt"
   },
   "source": [
    "### Data Cleaning"
   ]
  },
  {
   "cell_type": "code",
   "execution_count": 7,
   "metadata": {
    "colab": {
     "base_uri": "https://localhost:8080/"
    },
    "executionInfo": {
     "elapsed": 11,
     "status": "ok",
     "timestamp": 1691737772937,
     "user": {
      "displayName": "Tumpa Jalua ma22m024",
      "userId": "00308053716396028083"
     },
     "user_tz": -330
    },
    "id": "PBqUMamkIKtf",
    "outputId": "f2dd2386-78b3-4249-b8fa-bf09ea3c251d"
   },
   "outputs": [
    {
     "data": {
      "text/plain": [
       "id                   0\n",
       "url                  0\n",
       "region               0\n",
       "region_url           0\n",
       "price                0\n",
       "year              1205\n",
       "manufacturer     17646\n",
       "model             5277\n",
       "condition       174104\n",
       "cylinders       177678\n",
       "fuel              3013\n",
       "odometer          4400\n",
       "title_status      8242\n",
       "transmission      2556\n",
       "VIN             161042\n",
       "drive           130567\n",
       "size            306361\n",
       "type             92858\n",
       "paint_color     130203\n",
       "image_url           68\n",
       "description         70\n",
       "county          426880\n",
       "state                0\n",
       "lat               6549\n",
       "long              6549\n",
       "posting_date        68\n",
       "dtype: int64"
      ]
     },
     "execution_count": 7,
     "metadata": {},
     "output_type": "execute_result"
    }
   ],
   "source": [
    "df.isnull().sum()"
   ]
  },
  {
   "cell_type": "code",
   "execution_count": 8,
   "metadata": {
    "id": "D1J0bxuiIKyy"
   },
   "outputs": [],
   "source": [
    "df.drop(['id', 'url', 'region_url', 'VIN', 'image_url', 'description', 'county', 'lat', 'long', 'posting_date', 'size', 'state'], axis=1, inplace=True)"
   ]
  },
  {
   "cell_type": "code",
   "execution_count": 9,
   "metadata": {
    "colab": {
     "base_uri": "https://localhost:8080/"
    },
    "executionInfo": {
     "elapsed": 1131,
     "status": "ok",
     "timestamp": 1691737790729,
     "user": {
      "displayName": "Tumpa Jalua ma22m024",
      "userId": "00308053716396028083"
     },
     "user_tz": -330
    },
    "id": "nQ2A33-SJCgI",
    "outputId": "f81fd956-f794-4fe1-8bf2-0973ec62a675"
   },
   "outputs": [
    {
     "data": {
      "text/plain": [
       "region               0\n",
       "price                0\n",
       "year              1205\n",
       "manufacturer     17646\n",
       "model             5277\n",
       "condition       174104\n",
       "cylinders       177678\n",
       "fuel              3013\n",
       "odometer          4400\n",
       "title_status      8242\n",
       "transmission      2556\n",
       "drive           130567\n",
       "type             92858\n",
       "paint_color     130203\n",
       "dtype: int64"
      ]
     },
     "execution_count": 9,
     "metadata": {},
     "output_type": "execute_result"
    }
   ],
   "source": [
    "df.isnull().sum()"
   ]
  },
  {
   "cell_type": "code",
   "execution_count": 10,
   "metadata": {
    "colab": {
     "base_uri": "https://localhost:8080/"
    },
    "executionInfo": {
     "elapsed": 585,
     "status": "ok",
     "timestamp": 1691737791856,
     "user": {
      "displayName": "Tumpa Jalua ma22m024",
      "userId": "00308053716396028083"
     },
     "user_tz": -330
    },
    "id": "p6WDieRTPRjG",
    "outputId": "d79c111b-9679-436d-b6b8-2d9cce321ca2"
   },
   "outputs": [
    {
     "data": {
      "text/plain": [
       "region           0.000000\n",
       "price            0.000000\n",
       "year             0.282281\n",
       "manufacturer     4.133714\n",
       "model            1.236179\n",
       "condition       40.785232\n",
       "cylinders       41.622470\n",
       "fuel             0.705819\n",
       "odometer         1.030735\n",
       "title_status     1.930753\n",
       "transmission     0.598763\n",
       "drive           30.586347\n",
       "type            21.752717\n",
       "paint_color     30.501078\n",
       "dtype: float64"
      ]
     },
     "execution_count": 10,
     "metadata": {},
     "output_type": "execute_result"
    }
   ],
   "source": [
    "df.isna().sum()/df.shape[0]*100"
   ]
  },
  {
   "cell_type": "code",
   "execution_count": 11,
   "metadata": {
    "id": "GSreuSg6V9mM"
   },
   "outputs": [],
   "source": [
    "df = df.dropna(subset=['year', 'odometer', 'manufacturer', 'model'])"
   ]
  },
  {
   "cell_type": "code",
   "execution_count": 12,
   "metadata": {
    "id": "s3ven5HtV9n0"
   },
   "outputs": [],
   "source": [
    "df.fillna('unknown', inplace=True)"
   ]
  },
  {
   "cell_type": "code",
   "execution_count": 13,
   "metadata": {
    "colab": {
     "base_uri": "https://localhost:8080/"
    },
    "executionInfo": {
     "elapsed": 586,
     "status": "ok",
     "timestamp": 1691737801398,
     "user": {
      "displayName": "Tumpa Jalua ma22m024",
      "userId": "00308053716396028083"
     },
     "user_tz": -330
    },
    "id": "9YLuNcIIV9rS",
    "outputId": "6862541d-68df-41b1-c6f1-2258663c587b"
   },
   "outputs": [
    {
     "data": {
      "text/plain": [
       "53043"
      ]
     },
     "execution_count": 13,
     "metadata": {},
     "output_type": "execute_result"
    }
   ],
   "source": [
    "df.duplicated().sum()"
   ]
  },
  {
   "cell_type": "code",
   "execution_count": 14,
   "metadata": {
    "id": "-lY2rPsCWFl2"
   },
   "outputs": [],
   "source": [
    "df = df.drop_duplicates()"
   ]
  },
  {
   "cell_type": "code",
   "execution_count": 15,
   "metadata": {
    "colab": {
     "base_uri": "https://localhost:8080/"
    },
    "executionInfo": {
     "elapsed": 2,
     "status": "ok",
     "timestamp": 1691737803806,
     "user": {
      "displayName": "Tumpa Jalua ma22m024",
      "userId": "00308053716396028083"
     },
     "user_tz": -330
    },
    "id": "jnYAny1iWFnv",
    "outputId": "76166751-5e3f-44e8-c6bf-d8909030a2f5"
   },
   "outputs": [
    {
     "data": {
      "text/plain": [
       "(346840, 14)"
      ]
     },
     "execution_count": 15,
     "metadata": {},
     "output_type": "execute_result"
    }
   ],
   "source": [
    "df.shape"
   ]
  },
  {
   "cell_type": "markdown",
   "metadata": {
    "id": "Tt0XHAQYWJR9"
   },
   "source": [
    "\n",
    "### Categorical data cleaning\n",
    "\n"
   ]
  },
  {
   "cell_type": "code",
   "execution_count": 16,
   "metadata": {
    "id": "YiNb4QdFWFrU"
   },
   "outputs": [],
   "source": [
    "manufacturer_values = df['manufacturer'].value_counts()"
   ]
  },
  {
   "cell_type": "code",
   "execution_count": 17,
   "metadata": {
    "colab": {
     "base_uri": "https://localhost:8080/"
    },
    "executionInfo": {
     "elapsed": 342,
     "status": "ok",
     "timestamp": 1691737808172,
     "user": {
      "displayName": "Tumpa Jalua ma22m024",
      "userId": "00308053716396028083"
     },
     "user_tz": -330
    },
    "id": "qj4BJLLYWRrN",
    "outputId": "73b7cb86-8ecb-467e-c0b5-8615d6e1349e"
   },
   "outputs": [
    {
     "name": "stdout",
     "output_type": "stream",
     "text": [
      "ford               60022\n",
      "chevrolet          46111\n",
      "toyota             29054\n",
      "honda              18088\n",
      "jeep               15913\n",
      "nissan             15796\n",
      "ram                14641\n",
      "gmc                14283\n",
      "bmw                12802\n",
      "dodge              11137\n",
      "mercedes-benz      10083\n",
      "hyundai             8438\n",
      "volkswagen          8283\n",
      "subaru              8193\n",
      "lexus               7138\n",
      "kia                 6969\n",
      "audi                6816\n",
      "cadillac            5911\n",
      "acura               5469\n",
      "chrysler            5103\n",
      "buick               4753\n",
      "mazda               4702\n",
      "infiniti            4319\n",
      "lincoln             3764\n",
      "volvo               2907\n",
      "mitsubishi          2874\n",
      "mini                2090\n",
      "pontiac             2022\n",
      "jaguar              1813\n",
      "rover               1572\n",
      "porsche             1179\n",
      "mercury             1005\n",
      "saturn               932\n",
      "alfa-romeo           859\n",
      "tesla                812\n",
      "fiat                 699\n",
      "harley-davidson      121\n",
      "ferrari               69\n",
      "datsun                61\n",
      "aston-martin          22\n",
      "land rover            15\n",
      "Name: manufacturer, dtype: int64\n"
     ]
    }
   ],
   "source": [
    "print(manufacturer_values)"
   ]
  },
  {
   "cell_type": "code",
   "execution_count": 18,
   "metadata": {
    "id": "9UKtvMLDWRtC"
   },
   "outputs": [],
   "source": [
    "df['manufacturer'] = df['manufacturer'].apply(lambda x: x if str(x) in manufacturer_values[:20] else 'others')"
   ]
  },
  {
   "cell_type": "code",
   "execution_count": 19,
   "metadata": {
    "id": "-Q_6qWHwWRwk"
   },
   "outputs": [],
   "source": [
    "region_values = df['region'].value_counts()\n",
    "df['region'] = df['region'].apply(lambda x: x if str(x) in region_values[:50] else 'others')"
   ]
  },
  {
   "cell_type": "code",
   "execution_count": 20,
   "metadata": {
    "id": "G5LLwhV2WaOj"
   },
   "outputs": [],
   "source": [
    "model_values = df['model'].value_counts()\n",
    "df['model'] = df['model'].apply(lambda x: x if str(x) in model_values[:50] else 'others')"
   ]
  },
  {
   "cell_type": "code",
   "execution_count": 21,
   "metadata": {
    "colab": {
     "base_uri": "https://localhost:8080/"
    },
    "executionInfo": {
     "elapsed": 621,
     "status": "ok",
     "timestamp": 1691737858741,
     "user": {
      "displayName": "Tumpa Jalua ma22m024",
      "userId": "00308053716396028083"
     },
     "user_tz": -330
    },
    "id": "WebpJvtmWaSJ",
    "outputId": "2a01a440-7fd5-4e5e-fcfd-9e0ceb3fd126"
   },
   "outputs": [
    {
     "name": "stdout",
     "output_type": "stream",
     "text": [
      "region 51\n",
      "price 15274\n",
      "year 107\n",
      "manufacturer 21\n",
      "model 51\n",
      "condition 7\n",
      "cylinders 9\n",
      "fuel 6\n",
      "odometer 101980\n",
      "title_status 7\n",
      "transmission 4\n",
      "drive 4\n",
      "type 14\n",
      "paint_color 13\n"
     ]
    }
   ],
   "source": [
    "for i in df.columns:\n",
    "  print(i, len(df[i].value_counts().index))"
   ]
  },
  {
   "cell_type": "markdown",
   "metadata": {
    "id": "1xnVtYgcWf0I"
   },
   "source": [
    "### Numerical Data Cleaning"
   ]
  },
  {
   "cell_type": "code",
   "execution_count": 22,
   "metadata": {
    "colab": {
     "base_uri": "https://localhost:8080/",
     "height": 300
    },
    "executionInfo": {
     "elapsed": 358,
     "status": "ok",
     "timestamp": 1691737915278,
     "user": {
      "displayName": "Tumpa Jalua ma22m024",
      "userId": "00308053716396028083"
     },
     "user_tz": -330
    },
    "id": "ogZP9s2xWfYh",
    "outputId": "6d52d234-3c77-471a-8700-3624504d4834"
   },
   "outputs": [
    {
     "data": {
      "text/html": [
       "<div>\n",
       "<style scoped>\n",
       "    .dataframe tbody tr th:only-of-type {\n",
       "        vertical-align: middle;\n",
       "    }\n",
       "\n",
       "    .dataframe tbody tr th {\n",
       "        vertical-align: top;\n",
       "    }\n",
       "\n",
       "    .dataframe thead th {\n",
       "        text-align: right;\n",
       "    }\n",
       "</style>\n",
       "<table border=\"1\" class=\"dataframe\">\n",
       "  <thead>\n",
       "    <tr style=\"text-align: right;\">\n",
       "      <th></th>\n",
       "      <th>price</th>\n",
       "      <th>year</th>\n",
       "      <th>odometer</th>\n",
       "    </tr>\n",
       "  </thead>\n",
       "  <tbody>\n",
       "    <tr>\n",
       "      <th>count</th>\n",
       "      <td>3.468400e+05</td>\n",
       "      <td>346840.000000</td>\n",
       "      <td>3.468400e+05</td>\n",
       "    </tr>\n",
       "    <tr>\n",
       "      <th>mean</th>\n",
       "      <td>6.997499e+04</td>\n",
       "      <td>2011.526814</td>\n",
       "      <td>9.501220e+04</td>\n",
       "    </tr>\n",
       "    <tr>\n",
       "      <th>std</th>\n",
       "      <td>1.213391e+07</td>\n",
       "      <td>8.876408</td>\n",
       "      <td>1.848760e+05</td>\n",
       "    </tr>\n",
       "    <tr>\n",
       "      <th>min</th>\n",
       "      <td>0.000000e+00</td>\n",
       "      <td>1900.000000</td>\n",
       "      <td>0.000000e+00</td>\n",
       "    </tr>\n",
       "    <tr>\n",
       "      <th>25%</th>\n",
       "      <td>6.000000e+03</td>\n",
       "      <td>2008.000000</td>\n",
       "      <td>3.600000e+04</td>\n",
       "    </tr>\n",
       "    <tr>\n",
       "      <th>50%</th>\n",
       "      <td>1.458800e+04</td>\n",
       "      <td>2014.000000</td>\n",
       "      <td>8.358900e+04</td>\n",
       "    </tr>\n",
       "    <tr>\n",
       "      <th>75%</th>\n",
       "      <td>2.699000e+04</td>\n",
       "      <td>2017.000000</td>\n",
       "      <td>1.330000e+05</td>\n",
       "    </tr>\n",
       "    <tr>\n",
       "      <th>max</th>\n",
       "      <td>3.736929e+09</td>\n",
       "      <td>2022.000000</td>\n",
       "      <td>1.000000e+07</td>\n",
       "    </tr>\n",
       "  </tbody>\n",
       "</table>\n",
       "</div>"
      ],
      "text/plain": [
       "              price           year      odometer\n",
       "count  3.468400e+05  346840.000000  3.468400e+05\n",
       "mean   6.997499e+04    2011.526814  9.501220e+04\n",
       "std    1.213391e+07       8.876408  1.848760e+05\n",
       "min    0.000000e+00    1900.000000  0.000000e+00\n",
       "25%    6.000000e+03    2008.000000  3.600000e+04\n",
       "50%    1.458800e+04    2014.000000  8.358900e+04\n",
       "75%    2.699000e+04    2017.000000  1.330000e+05\n",
       "max    3.736929e+09    2022.000000  1.000000e+07"
      ]
     },
     "execution_count": 22,
     "metadata": {},
     "output_type": "execute_result"
    }
   ],
   "source": [
    "df.describe()"
   ]
  },
  {
   "cell_type": "code",
   "execution_count": null,
   "metadata": {},
   "outputs": [],
   "source": []
  },
  {
   "cell_type": "code",
   "execution_count": 23,
   "metadata": {
    "id": "wYeKo61wWwfl"
   },
   "outputs": [],
   "source": [
    "#Our dataset have lots of outliers. Outliers reduces the accuracy of a model. We have to detect outliers and remove them."
   ]
  },
  {
   "cell_type": "code",
   "execution_count": 24,
   "metadata": {
    "id": "ZRxBasyZWwjG"
   },
   "outputs": [],
   "source": [
    "price_percentile25 = df['price'].quantile(0.25)\n",
    "price_percentile75 = df['price'].quantile(0.75)\n",
    "price_iqr = price_percentile75 - price_percentile25"
   ]
  },
  {
   "cell_type": "code",
   "execution_count": 25,
   "metadata": {
    "id": "j3zdfXFZW4so"
   },
   "outputs": [],
   "source": [
    "price_upper_limit = price_percentile75 + 1.5 * price_iqr\n",
    "price_lower_limit = df['price'].quantile(0.15)"
   ]
  },
  {
   "cell_type": "code",
   "execution_count": 26,
   "metadata": {
    "id": "IuHXK15TW4wK"
   },
   "outputs": [],
   "source": [
    "new_df = df[(df['price'] < price_upper_limit) & (df['price'] > price_lower_limit)]"
   ]
  },
  {
   "cell_type": "code",
   "execution_count": 27,
   "metadata": {
    "id": "Aub6b-ASW-TB"
   },
   "outputs": [],
   "source": [
    "odometer_percentile75 = df['odometer'].quantile(0.75)\n",
    "odometer_percentile25 = df['odometer'].quantile(0.25)\n",
    "odometer_iqr = odometer_percentile75 - odometer_percentile25\n",
    "odometer_upper_limit = odometer_percentile75 + 1.5 * odometer_iqr\n",
    "odometer_lower_limit = df['odometer'].quantile(0.05)"
   ]
  },
  {
   "cell_type": "code",
   "execution_count": 28,
   "metadata": {
    "id": "7IcuizoXW-Wa"
   },
   "outputs": [],
   "source": [
    "new_df = new_df[(new_df['odometer'] < odometer_upper_limit) & (new_df['odometer'] > odometer_lower_limit)]"
   ]
  },
  {
   "cell_type": "code",
   "execution_count": 29,
   "metadata": {
    "colab": {
     "base_uri": "https://localhost:8080/"
    },
    "executionInfo": {
     "elapsed": 2,
     "status": "ok",
     "timestamp": 1691737931140,
     "user": {
      "displayName": "Tumpa Jalua ma22m024",
      "userId": "00308053716396028083"
     },
     "user_tz": -330
    },
    "id": "Wn0KQtEJXCYA",
    "outputId": "154aa6b7-1b49-49e8-a415-00ace1fdafde"
   },
   "outputs": [
    {
     "data": {
      "text/plain": [
       "(273590, 14)"
      ]
     },
     "execution_count": 29,
     "metadata": {},
     "output_type": "execute_result"
    }
   ],
   "source": [
    "new_df.shape"
   ]
  },
  {
   "cell_type": "markdown",
   "metadata": {
    "id": "sGGAlP5qXEpJ"
   },
   "source": [
    "### Feature Engineering"
   ]
  },
  {
   "cell_type": "code",
   "execution_count": 30,
   "metadata": {
    "colab": {
     "base_uri": "https://localhost:8080/",
     "height": 305
    },
    "executionInfo": {
     "elapsed": 350,
     "status": "ok",
     "timestamp": 1691737933587,
     "user": {
      "displayName": "Tumpa Jalua ma22m024",
      "userId": "00308053716396028083"
     },
     "user_tz": -330
    },
    "id": "xWFQOkRNXCbo",
    "outputId": "bba97c1c-d8ef-4c76-c3fb-5f8d6107603d"
   },
   "outputs": [
    {
     "data": {
      "text/html": [
       "<div>\n",
       "<style scoped>\n",
       "    .dataframe tbody tr th:only-of-type {\n",
       "        vertical-align: middle;\n",
       "    }\n",
       "\n",
       "    .dataframe tbody tr th {\n",
       "        vertical-align: top;\n",
       "    }\n",
       "\n",
       "    .dataframe thead th {\n",
       "        text-align: right;\n",
       "    }\n",
       "</style>\n",
       "<table border=\"1\" class=\"dataframe\">\n",
       "  <thead>\n",
       "    <tr style=\"text-align: right;\">\n",
       "      <th></th>\n",
       "      <th>region</th>\n",
       "      <th>price</th>\n",
       "      <th>year</th>\n",
       "      <th>manufacturer</th>\n",
       "      <th>model</th>\n",
       "      <th>condition</th>\n",
       "      <th>cylinders</th>\n",
       "      <th>fuel</th>\n",
       "      <th>odometer</th>\n",
       "      <th>title_status</th>\n",
       "      <th>transmission</th>\n",
       "      <th>drive</th>\n",
       "      <th>type</th>\n",
       "      <th>paint_color</th>\n",
       "    </tr>\n",
       "  </thead>\n",
       "  <tbody>\n",
       "    <tr>\n",
       "      <th>16014</th>\n",
       "      <td>tucson</td>\n",
       "      <td>17590</td>\n",
       "      <td>2013.0</td>\n",
       "      <td>mercedes-benz</td>\n",
       "      <td>others</td>\n",
       "      <td>good</td>\n",
       "      <td>unknown</td>\n",
       "      <td>other</td>\n",
       "      <td>99472.0</td>\n",
       "      <td>clean</td>\n",
       "      <td>automatic</td>\n",
       "      <td>unknown</td>\n",
       "      <td>SUV</td>\n",
       "      <td>black</td>\n",
       "    </tr>\n",
       "    <tr>\n",
       "      <th>194113</th>\n",
       "      <td>others</td>\n",
       "      <td>12180</td>\n",
       "      <td>2016.0</td>\n",
       "      <td>gmc</td>\n",
       "      <td>others</td>\n",
       "      <td>excellent</td>\n",
       "      <td>4 cylinders</td>\n",
       "      <td>gas</td>\n",
       "      <td>104056.0</td>\n",
       "      <td>unknown</td>\n",
       "      <td>automatic</td>\n",
       "      <td>4wd</td>\n",
       "      <td>SUV</td>\n",
       "      <td>unknown</td>\n",
       "    </tr>\n",
       "    <tr>\n",
       "      <th>146689</th>\n",
       "      <td>others</td>\n",
       "      <td>10595</td>\n",
       "      <td>2012.0</td>\n",
       "      <td>others</td>\n",
       "      <td>others</td>\n",
       "      <td>unknown</td>\n",
       "      <td>unknown</td>\n",
       "      <td>gas</td>\n",
       "      <td>73959.0</td>\n",
       "      <td>clean</td>\n",
       "      <td>automatic</td>\n",
       "      <td>unknown</td>\n",
       "      <td>unknown</td>\n",
       "      <td>unknown</td>\n",
       "    </tr>\n",
       "    <tr>\n",
       "      <th>409754</th>\n",
       "      <td>seattle-tacoma</td>\n",
       "      <td>56999</td>\n",
       "      <td>2009.0</td>\n",
       "      <td>chevrolet</td>\n",
       "      <td>others</td>\n",
       "      <td>unknown</td>\n",
       "      <td>8 cylinders</td>\n",
       "      <td>gas</td>\n",
       "      <td>20500.0</td>\n",
       "      <td>clean</td>\n",
       "      <td>manual</td>\n",
       "      <td>unknown</td>\n",
       "      <td>coupe</td>\n",
       "      <td>unknown</td>\n",
       "    </tr>\n",
       "    <tr>\n",
       "      <th>214141</th>\n",
       "      <td>minneapolis / st paul</td>\n",
       "      <td>9950</td>\n",
       "      <td>1999.0</td>\n",
       "      <td>gmc</td>\n",
       "      <td>others</td>\n",
       "      <td>good</td>\n",
       "      <td>6 cylinders</td>\n",
       "      <td>diesel</td>\n",
       "      <td>188591.0</td>\n",
       "      <td>clean</td>\n",
       "      <td>manual</td>\n",
       "      <td>rwd</td>\n",
       "      <td>truck</td>\n",
       "      <td>white</td>\n",
       "    </tr>\n",
       "  </tbody>\n",
       "</table>\n",
       "</div>"
      ],
      "text/plain": [
       "                       region  price    year   manufacturer   model  \\\n",
       "16014                  tucson  17590  2013.0  mercedes-benz  others   \n",
       "194113                 others  12180  2016.0            gmc  others   \n",
       "146689                 others  10595  2012.0         others  others   \n",
       "409754         seattle-tacoma  56999  2009.0      chevrolet  others   \n",
       "214141  minneapolis / st paul   9950  1999.0            gmc  others   \n",
       "\n",
       "        condition    cylinders    fuel  odometer title_status transmission  \\\n",
       "16014        good      unknown   other   99472.0        clean    automatic   \n",
       "194113  excellent  4 cylinders     gas  104056.0      unknown    automatic   \n",
       "146689    unknown      unknown     gas   73959.0        clean    automatic   \n",
       "409754    unknown  8 cylinders     gas   20500.0        clean       manual   \n",
       "214141       good  6 cylinders  diesel  188591.0        clean       manual   \n",
       "\n",
       "          drive     type paint_color  \n",
       "16014   unknown      SUV       black  \n",
       "194113      4wd      SUV     unknown  \n",
       "146689  unknown  unknown     unknown  \n",
       "409754  unknown    coupe     unknown  \n",
       "214141      rwd    truck       white  "
      ]
     },
     "execution_count": 30,
     "metadata": {},
     "output_type": "execute_result"
    }
   ],
   "source": [
    "new_df.sample(5)"
   ]
  },
  {
   "cell_type": "code",
   "execution_count": 31,
   "metadata": {
    "id": "K46hZLMBXNyy"
   },
   "outputs": [],
   "source": [
    "new_df['odometer'] = new_df['odometer'].astype(int)"
   ]
  },
  {
   "cell_type": "code",
   "execution_count": 32,
   "metadata": {
    "id": "e6uFEumVXN1B"
   },
   "outputs": [],
   "source": [
    "new_df['year'] = new_df['year'].astype(int)"
   ]
  },
  {
   "cell_type": "code",
   "execution_count": 33,
   "metadata": {
    "colab": {
     "base_uri": "https://localhost:8080/",
     "height": 846
    },
    "executionInfo": {
     "elapsed": 8888,
     "status": "ok",
     "timestamp": 1691737951145,
     "user": {
      "displayName": "Tumpa Jalua ma22m024",
      "userId": "00308053716396028083"
     },
     "user_tz": -330
    },
    "id": "L8bKGs8oXN4m",
    "outputId": "011cefaf-f432-45d6-d394-2926136b9ba6"
   },
   "outputs": [
    {
     "data": {
      "image/png": "[encoded data removed]",
      "text/plain": [
       "<Figure size 1200x900 with 1 Axes>"
      ]
     },
     "metadata": {},
     "output_type": "display_data"
    }
   ],
   "source": [
    "plt.rcParams[\"figure.autolayout\"] = True\n",
    "sns.set_palette('summer_r')\n",
    "plt.figure(figsize =(12,9))\n",
    "sns.barplot(y=new_df['price'],x=new_df['year'])\n",
    "plt.title(\"Price VS Year\",fontsize=20,fontweight ='bold')\n",
    "plt.xlabel('year',fontsize = 20)\n",
    "plt.xticks(rotation=60)\n",
    "plt.ylabel('price ',fontsize = 20)\n",
    "plt.tight_layout()\n",
    "plt.show()"
   ]
  },
  {
   "cell_type": "code",
   "execution_count": 34,
   "metadata": {
    "id": "ehIR0oeFXZfb"
   },
   "outputs": [],
   "source": [
    "#We can see the car data before 1996 is quiet irrelevant with our current times data. So we are extracting all the car data available after 1996\n"
   ]
  },
  {
   "cell_type": "code",
   "execution_count": 35,
   "metadata": {
    "colab": {
     "base_uri": "https://localhost:8080/"
    },
    "executionInfo": {
     "elapsed": 2,
     "status": "ok",
     "timestamp": 1691737957728,
     "user": {
      "displayName": "Tumpa Jalua ma22m024",
      "userId": "00308053716396028083"
     },
     "user_tz": -330
    },
    "id": "tA-XMnDTXZhc",
    "outputId": "19d57af7-33db-4c1a-bbc5-317e43436487"
   },
   "outputs": [
    {
     "data": {
      "text/plain": [
       "(264790, 14)"
      ]
     },
     "execution_count": 35,
     "metadata": {},
     "output_type": "execute_result"
    }
   ],
   "source": [
    "new_df = new_df[new_df['year'] > 1996]\n",
    "new_df.shape"
   ]
  },
  {
   "cell_type": "code",
   "execution_count": 36,
   "metadata": {
    "colab": {
     "base_uri": "https://localhost:8080/",
     "height": 300
    },
    "executionInfo": {
     "elapsed": 350,
     "status": "ok",
     "timestamp": 1691737960135,
     "user": {
      "displayName": "Tumpa Jalua ma22m024",
      "userId": "00308053716396028083"
     },
     "user_tz": -330
    },
    "id": "_6rGAaShXZk9",
    "outputId": "4a5b9fd9-2d2f-4f43-c3c0-e3bf8c599a9a"
   },
   "outputs": [
    {
     "data": {
      "text/html": [
       "<div>\n",
       "<style scoped>\n",
       "    .dataframe tbody tr th:only-of-type {\n",
       "        vertical-align: middle;\n",
       "    }\n",
       "\n",
       "    .dataframe tbody tr th {\n",
       "        vertical-align: top;\n",
       "    }\n",
       "\n",
       "    .dataframe thead th {\n",
       "        text-align: right;\n",
       "    }\n",
       "</style>\n",
       "<table border=\"1\" class=\"dataframe\">\n",
       "  <thead>\n",
       "    <tr style=\"text-align: right;\">\n",
       "      <th></th>\n",
       "      <th>price</th>\n",
       "      <th>odometer</th>\n",
       "      <th>car_age</th>\n",
       "    </tr>\n",
       "  </thead>\n",
       "  <tbody>\n",
       "    <tr>\n",
       "      <th>count</th>\n",
       "      <td>264790.000000</td>\n",
       "      <td>264790.000000</td>\n",
       "      <td>264790.000000</td>\n",
       "    </tr>\n",
       "    <tr>\n",
       "      <th>mean</th>\n",
       "      <td>19556.905389</td>\n",
       "      <td>90423.555625</td>\n",
       "      <td>9.066917</td>\n",
       "    </tr>\n",
       "    <tr>\n",
       "      <th>std</th>\n",
       "      <td>12047.429756</td>\n",
       "      <td>57070.168218</td>\n",
       "      <td>4.909724</td>\n",
       "    </tr>\n",
       "    <tr>\n",
       "      <th>min</th>\n",
       "      <td>3525.000000</td>\n",
       "      <td>6958.000000</td>\n",
       "      <td>0.000000</td>\n",
       "    </tr>\n",
       "    <tr>\n",
       "      <th>25%</th>\n",
       "      <td>8999.000000</td>\n",
       "      <td>40000.000000</td>\n",
       "      <td>5.000000</td>\n",
       "    </tr>\n",
       "    <tr>\n",
       "      <th>50%</th>\n",
       "      <td>16995.000000</td>\n",
       "      <td>85000.000000</td>\n",
       "      <td>8.000000</td>\n",
       "    </tr>\n",
       "    <tr>\n",
       "      <th>75%</th>\n",
       "      <td>27990.000000</td>\n",
       "      <td>130333.000000</td>\n",
       "      <td>12.000000</td>\n",
       "    </tr>\n",
       "    <tr>\n",
       "      <th>max</th>\n",
       "      <td>58448.000000</td>\n",
       "      <td>278495.000000</td>\n",
       "      <td>25.000000</td>\n",
       "    </tr>\n",
       "  </tbody>\n",
       "</table>\n",
       "</div>"
      ],
      "text/plain": [
       "               price       odometer        car_age\n",
       "count  264790.000000  264790.000000  264790.000000\n",
       "mean    19556.905389   90423.555625       9.066917\n",
       "std     12047.429756   57070.168218       4.909724\n",
       "min      3525.000000    6958.000000       0.000000\n",
       "25%      8999.000000   40000.000000       5.000000\n",
       "50%     16995.000000   85000.000000       8.000000\n",
       "75%     27990.000000  130333.000000      12.000000\n",
       "max     58448.000000  278495.000000      25.000000"
      ]
     },
     "execution_count": 36,
     "metadata": {},
     "output_type": "execute_result"
    }
   ],
   "source": [
    "new_df['car_age'] = 2022 - new_df['year']\n",
    "new_df.drop(['year'], axis = 1, inplace = True)\n",
    "new_df.describe()"
   ]
  },
  {
   "cell_type": "markdown",
   "metadata": {
    "id": "AMLhI8tVXiM-"
   },
   "source": [
    "### Data Visualization"
   ]
  },
  {
   "cell_type": "code",
   "execution_count": 37,
   "metadata": {
    "id": "2ztQItb7Xkez"
   },
   "outputs": [],
   "source": [
    "sample_data = new_df.sample(100)"
   ]
  },
  {
   "cell_type": "code",
   "execution_count": 38,
   "metadata": {
    "colab": {
     "base_uri": "https://localhost:8080/",
     "height": 757
    },
    "executionInfo": {
     "elapsed": 5620,
     "status": "ok",
     "timestamp": 1691737970262,
     "user": {
      "displayName": "Tumpa Jalua ma22m024",
      "userId": "00308053716396028083"
     },
     "user_tz": -330
    },
    "id": "ueYPdeTWXkgr",
    "outputId": "6db48c47-fcc2-445a-8972-44278c647d2b"
   },
   "outputs": [
    {
     "data": {
      "image/png": "[encoded data removed]",
      "text/plain": [
       "<Figure size 750x750 with 12 Axes>"
      ]
     },
     "metadata": {},
     "output_type": "display_data"
    }
   ],
   "source": [
    "sns.pairplot(sample_data)\n",
    "plt.title('Figure 1: Pair Plot')\n",
    "plt.tight_layout()\n",
    "plt.savefig('Insight-Pair-Plot',dpi=None)\n",
    "plt.show()"
   ]
  },
  {
   "cell_type": "code",
   "execution_count": 39,
   "metadata": {
    "colab": {
     "base_uri": "https://localhost:8080/",
     "height": 504
    },
    "executionInfo": {
     "elapsed": 689,
     "status": "ok",
     "timestamp": 1691737970946,
     "user": {
      "displayName": "Tumpa Jalua ma22m024",
      "userId": "00308053716396028083"
     },
     "user_tz": -330
    },
    "id": "PPTN4IRFXkij",
    "outputId": "bf4e6868-1523-4c80-b1ec-dd7375aa9852"
   },
   "outputs": [
    {
     "data": {
      "text/plain": [
       "<AxesSubplot: >"
      ]
     },
     "execution_count": 39,
     "metadata": {},
     "output_type": "execute_result"
    },
    {
     "data": {
      "image/png": "[encoded data removed]",
      "text/plain": [
       "<Figure size 640x480 with 2 Axes>"
      ]
     },
     "metadata": {},
     "output_type": "display_data"
    }
   ],
   "source": [
    "sns.heatmap(new_df.corr(), annot=True)"
   ]
  },
  {
   "cell_type": "code",
   "execution_count": 40,
   "metadata": {
    "colab": {
     "base_uri": "https://localhost:8080/",
     "height": 487
    },
    "executionInfo": {
     "elapsed": 3768,
     "status": "ok",
     "timestamp": 1691737974710,
     "user": {
      "displayName": "Tumpa Jalua ma22m024",
      "userId": "00308053716396028083"
     },
     "user_tz": -330
    },
    "id": "Un0G0hNzXkl8",
    "outputId": "20a8417e-5d9c-4505-e1b4-51fea757c94f"
   },
   "outputs": [
    {
     "data": {
      "image/png": "[encoded data removed]",
      "text/plain": [
       "<Figure size 640x480 with 1 Axes>"
      ]
     },
     "metadata": {},
     "output_type": "display_data"
    }
   ],
   "source": [
    "sns.distplot(new_df.price)\n",
    "plt.tight_layout()\n",
    "plt.title(\"Distribution of price\")\n",
    "plt.savefig('Insight-Dist-Plot',dpi=None)\n",
    "plt.show()"
   ]
  },
  {
   "cell_type": "code",
   "execution_count": 41,
   "metadata": {
    "colab": {
     "base_uri": "https://localhost:8080/"
    },
    "executionInfo": {
     "elapsed": 338,
     "status": "ok",
     "timestamp": 1691737978911,
     "user": {
      "displayName": "Tumpa Jalua ma22m024",
      "userId": "00308053716396028083"
     },
     "user_tz": -330
    },
    "id": "BQz7pWaQX1yN",
    "outputId": "20b1c0dd-bb34-4701-c29d-a9ff77cfdaaf"
   },
   "outputs": [
    {
     "data": {
      "text/plain": [
       "Index(['region', 'price', 'manufacturer', 'model', 'condition', 'cylinders',\n",
       "       'fuel', 'odometer', 'title_status', 'transmission', 'drive', 'type',\n",
       "       'paint_color', 'car_age'],\n",
       "      dtype='object')"
      ]
     },
     "execution_count": 41,
     "metadata": {},
     "output_type": "execute_result"
    }
   ],
   "source": [
    "new_df.columns"
   ]
  },
  {
   "cell_type": "code",
   "execution_count": 42,
   "metadata": {
    "id": "l4tLAA-LX10P"
   },
   "outputs": [],
   "source": [
    "final_df = new_df.copy()"
   ]
  },
  {
   "cell_type": "code",
   "execution_count": 43,
   "metadata": {
    "id": "cNIPGFgSX13n"
   },
   "outputs": [],
   "source": [
    "#Creating encoder and implimenting them into pipeline"
   ]
  },
  {
   "cell_type": "code",
   "execution_count": 44,
   "metadata": {
    "id": "p1yBlfuHX_pp"
   },
   "outputs": [],
   "source": [
    "from sklearn.pipeline import Pipeline\n",
    "pipe_categorical = Pipeline(\n",
    "    steps = [('ordinal_encoder', OrdinalEncoder(categories = [[ 'salvage', 'fair', 'unknown', 'good', 'excellent', 'like new', 'new']])),\n",
    "             ('one_hot_encoder', OneHotEncoder(sparse = False, drop = 'first'))]\n",
    ")"
   ]
  },
  {
   "cell_type": "code",
   "execution_count": 45,
   "metadata": {
    "id": "FaR15omzX_rR"
   },
   "outputs": [],
   "source": [
    "pipe_numerical = Pipeline(\n",
    "    steps = [('standard_scaler', StandardScaler())]\n",
    ")"
   ]
  },
  {
   "cell_type": "code",
   "execution_count": 46,
   "metadata": {
    "id": "AU2p2T96X_ti"
   },
   "outputs": [],
   "source": [
    "column_transformer = ColumnTransformer(transformers = [\n",
    "    ('condition_pipe_trans', pipe_categorical['ordinal_encoder'], ['condition']),\n",
    "    ('categorical_pipe_trans', pipe_categorical['one_hot_encoder'], ['model', 'region', 'manufacturer', 'fuel', 'cylinders','title_status', 'transmission', 'drive', 'type', 'paint_color']),\n",
    "    ('numerical_pipe_trans', pipe_numerical, ['odometer'])\n",
    "])"
   ]
  },
  {
   "cell_type": "markdown",
   "metadata": {
    "id": "Jd_C6cYMYJNd"
   },
   "source": [
    "\n",
    "### Train-test-split"
   ]
  },
  {
   "cell_type": "code",
   "execution_count": 47,
   "metadata": {
    "id": "yjCYXQRrX_xJ"
   },
   "outputs": [],
   "source": [
    "from sklearn.model_selection import train_test_split"
   ]
  },
  {
   "cell_type": "code",
   "execution_count": 48,
   "metadata": {
    "id": "2gEbxJOSYP5u"
   },
   "outputs": [],
   "source": [
    "X_train, X_test, y_train, y_test = train_test_split(final_df.drop(['price'], axis = 1), final_df['price'], random_state = 42, test_size = .2)"
   ]
  },
  {
   "cell_type": "code",
   "execution_count": 49,
   "metadata": {
    "id": "0ocPZGkyYP7q"
   },
   "outputs": [],
   "source": [
    "X_train_tnf = column_transformer.fit_transform(X_train)"
   ]
  },
  {
   "cell_type": "code",
   "execution_count": 50,
   "metadata": {
    "id": "TCFqlwZPYP_P"
   },
   "outputs": [],
   "source": [
    "X_test_tnf = column_transformer.transform(X_test)"
   ]
  },
  {
   "cell_type": "markdown",
   "metadata": {
    "id": "mGph0K6wYcmC"
   },
   "source": [
    "Model Training"
   ]
  },
  {
   "cell_type": "code",
   "execution_count": 51,
   "metadata": {
    "id": "qYzb4364Yblp"
   },
   "outputs": [],
   "source": [
    "def result(y_test, y_pred):\n",
    "    r=[]\n",
    "    r.append('%.4f' % r2_score(y_test,y_pred))\n",
    "    r.append('%.4f' % (r2_score(y_test,y_pred)*100))\n",
    "    r.append('%.2f' % mean_squared_error(y_test, y_pred))\n",
    "    r.append('%.2f' % mean_absolute_error(y_test, y_pred))\n",
    "    r.append('%.2f' % np.sqrt(mean_squared_error(y_test, y_pred)))\n",
    "    return (r)\n"
   ]
  },
  {
   "cell_type": "code",
   "execution_count": 52,
   "metadata": {
    "id": "eMs8GD6nYowT"
   },
   "outputs": [],
   "source": [
    "#dataframe that store the performance of each model\n",
    "score_data = pd.DataFrame(index=['R2 Score', 'Accuracy(%)', 'Mean Squared Error', 'Mean Absolute Error', 'Root MSE'])"
   ]
  },
  {
   "cell_type": "markdown",
   "metadata": {
    "id": "E3Oxn5LGYrqg"
   },
   "source": [
    "Linear Regression"
   ]
  },
  {
   "cell_type": "code",
   "execution_count": 53,
   "metadata": {
    "id": "B_3BzGTDPd43"
   },
   "outputs": [],
   "source": [
    "LR = LinearRegression()\n",
    "LR.fit(X_train_tnf, y_train)\n",
    "y_pred = LR.predict(X_test_tnf)"
   ]
  },
  {
   "cell_type": "code",
   "execution_count": 54,
   "metadata": {
    "colab": {
     "base_uri": "https://localhost:8080/"
    },
    "executionInfo": {
     "elapsed": 353,
     "status": "ok",
     "timestamp": 1691738024135,
     "user": {
      "displayName": "Tumpa Jalua ma22m024",
      "userId": "00308053716396028083"
     },
     "user_tz": -330
    },
    "id": "GIm4hS0cYt8R",
    "outputId": "535d59ac-0f47-4f4f-aa01-ce7e6e548439"
   },
   "outputs": [
    {
     "name": "stdout",
     "output_type": "stream",
     "text": [
      "R2_score:  0.6523\n",
      "Mean squared error:  50719246.91\n",
      "Mean absolute error:  5399.80\n",
      "Root mean squared error:  7121.74\n"
     ]
    }
   ],
   "source": [
    "R2_score = r2_score(y_test, y_pred)*100\n",
    "score_lr = result(y_test, y_pred)\n",
    "score_data['Linear Regression'] = score_lr\n",
    "print('R2_score: ', score_lr[0])\n",
    "print('Mean squared error: ', score_lr[2])\n",
    "print('Mean absolute error: ', score_lr[3])\n",
    "print('Root mean squared error: ', score_lr[4])"
   ]
  },
  {
   "cell_type": "markdown",
   "metadata": {
    "id": "nLrojEIXYzwx"
   },
   "source": [
    "Ridge Regression"
   ]
  },
  {
   "cell_type": "code",
   "execution_count": 55,
   "metadata": {
    "id": "-o6ko1vTYt_w"
   },
   "outputs": [],
   "source": [
    "RR = Ridge(alpha=20.336, solver='auto')\n",
    "RR.fit(X_train_tnf, y_train)\n",
    "y_pred1 = RR.predict(X_test_tnf)"
   ]
  },
  {
   "cell_type": "code",
   "execution_count": 56,
   "metadata": {
    "colab": {
     "base_uri": "https://localhost:8080/"
    },
    "executionInfo": {
     "elapsed": 339,
     "status": "ok",
     "timestamp": 1691738081981,
     "user": {
      "displayName": "Tumpa Jalua ma22m024",
      "userId": "00308053716396028083"
     },
     "user_tz": -330
    },
    "id": "zUOd1krbXjfG",
    "outputId": "fce2a2e5-f5fe-48a9-bcf2-f485c6b535c6"
   },
   "outputs": [
    {
     "name": "stdout",
     "output_type": "stream",
     "text": [
      "R2 score:  0.6522\n",
      "Mean squared error:  50735666.76\n",
      "Mean absolute error:  5400.72\n",
      "Root mean squared error:  7122.90\n"
     ]
    }
   ],
   "source": [
    "score_rr = result(y_test, y_pred1)\n",
    "score_data['Ridge Regression'] = score_rr\n",
    "print('R2 score: ', score_rr[0])\n",
    "print('Mean squared error: ', score_rr[2])\n",
    "print('Mean absolute error: ', score_rr[3])\n",
    "print('Root mean squared error: ', score_rr[4])"
   ]
  },
  {
   "cell_type": "markdown",
   "metadata": {
    "id": "inYhwWU7Y-_T"
   },
   "source": [
    "Lasso Regression"
   ]
  },
  {
   "cell_type": "code",
   "execution_count": 57,
   "metadata": {
    "id": "tU9DYS3UXjhN"
   },
   "outputs": [],
   "source": [
    "lasso = Lasso(alpha=0.0001)\n",
    "lasso.fit(X_train_tnf, y_train)\n",
    "y_pred2 = lasso.predict(X_test_tnf)"
   ]
  },
  {
   "cell_type": "markdown",
   "metadata": {
    "id": "EF3lQdeNZQz-"
   },
   "source": [
    "Random Forest Regression"
   ]
  },
  {
   "cell_type": "code",
   "execution_count": 58,
   "metadata": {
    "colab": {
     "base_uri": "https://localhost:8080/"
    },
    "executionInfo": {
     "elapsed": 30,
     "status": "ok",
     "timestamp": 1691738490092,
     "user": {
      "displayName": "Tumpa Jalua ma22m024",
      "userId": "00308053716396028083"
     },
     "user_tz": -330
    },
    "id": "ddYLh3lfdrzp",
    "outputId": "86a1bf15-0cf1-4565-8bca-39719acb54da"
   },
   "outputs": [
    {
     "name": "stdout",
     "output_type": "stream",
     "text": [
      "R2 score:  0.6523\n",
      "Mean squared error:  50719250.76\n",
      "Mean absolute error:  5399.80\n",
      "Root mean squared error:  7121.74\n"
     ]
    }
   ],
   "source": [
    "score_lasso = result(y_test, y_pred2)\n",
    "score_data['Lasso Regression'] = score_lasso\n",
    "print('R2 score: ', score_lasso[0])\n",
    "print('Mean squared error: ', score_lasso[2])\n",
    "print('Mean absolute error: ', score_lasso[3])\n",
    "print('Root mean squared error: ', score_lasso[4])"
   ]
  },
  {
   "cell_type": "code",
   "execution_count": 59,
   "metadata": {
    "id": "8FFcjdarZUtU"
   },
   "outputs": [],
   "source": [
    "RFR = RandomForestRegressor(n_estimators=150,random_state=0, min_samples_leaf=1, max_features=0.3, n_jobs=-1, oob_score=True)\n",
    "RFR.fit(X_train_tnf, y_train)\n",
    "y_pred = RFR.predict(X_test_tnf)"
   ]
  },
  {
   "cell_type": "code",
   "execution_count": 60,
   "metadata": {
    "colab": {
     "base_uri": "https://localhost:8080/"
    },
    "executionInfo": {
     "elapsed": 29,
     "status": "ok",
     "timestamp": 1691738760586,
     "user": {
      "displayName": "Tumpa Jalua ma22m024",
      "userId": "00308053716396028083"
     },
     "user_tz": -330
    },
    "id": "9Nh2t-bCZUvS",
    "outputId": "76030e0f-425f-498d-b4bb-cfad463bd7b6"
   },
   "outputs": [
    {
     "name": "stdout",
     "output_type": "stream",
     "text": [
      "R2 score:  0.8602\n",
      "Mean squared error:  20401237.57\n",
      "Mean absolute error:  2607.77\n",
      "Root mean squared error:  4516.77\n"
     ]
    }
   ],
   "source": [
    "score_rfr = result(y_test, y_pred)\n",
    "score_data['Random Forest Regression'] = score_rfr\n",
    "print('R2 score: ', score_rfr[0])\n",
    "print('Mean squared error: ', score_rfr[2])\n",
    "print('Mean absolute error: ', score_rfr[3])\n",
    "print('Root mean squared error: ', score_rfr[4])"
   ]
  },
  {
   "cell_type": "code",
   "execution_count": 61,
   "metadata": {
    "colab": {
     "base_uri": "https://localhost:8080/",
     "height": 206
    },
    "executionInfo": {
     "elapsed": 341,
     "status": "ok",
     "timestamp": 1691739322353,
     "user": {
      "displayName": "Tumpa Jalua ma22m024",
      "userId": "00308053716396028083"
     },
     "user_tz": -330
    },
    "id": "2_WyY4pWZUxL",
    "outputId": "7b0b8b12-4aca-4193-b58c-a4440b8cf02b"
   },
   "outputs": [
    {
     "data": {
      "text/html": [
       "<div>\n",
       "<style scoped>\n",
       "    .dataframe tbody tr th:only-of-type {\n",
       "        vertical-align: middle;\n",
       "    }\n",
       "\n",
       "    .dataframe tbody tr th {\n",
       "        vertical-align: top;\n",
       "    }\n",
       "\n",
       "    .dataframe thead th {\n",
       "        text-align: right;\n",
       "    }\n",
       "</style>\n",
       "<table border=\"1\" class=\"dataframe\">\n",
       "  <thead>\n",
       "    <tr style=\"text-align: right;\">\n",
       "      <th></th>\n",
       "      <th>Linear Regression</th>\n",
       "      <th>Ridge Regression</th>\n",
       "      <th>Lasso Regression</th>\n",
       "      <th>Random Forest Regression</th>\n",
       "    </tr>\n",
       "  </thead>\n",
       "  <tbody>\n",
       "    <tr>\n",
       "      <th>R2 Score</th>\n",
       "      <td>0.6523</td>\n",
       "      <td>0.6522</td>\n",
       "      <td>0.6523</td>\n",
       "      <td>0.8602</td>\n",
       "    </tr>\n",
       "    <tr>\n",
       "      <th>Accuracy(%)</th>\n",
       "      <td>65.2330</td>\n",
       "      <td>65.2217</td>\n",
       "      <td>65.2330</td>\n",
       "      <td>86.0154</td>\n",
       "    </tr>\n",
       "    <tr>\n",
       "      <th>Mean Squared Error</th>\n",
       "      <td>50719246.91</td>\n",
       "      <td>50735666.76</td>\n",
       "      <td>50719250.76</td>\n",
       "      <td>20401237.57</td>\n",
       "    </tr>\n",
       "    <tr>\n",
       "      <th>Mean Absolute Error</th>\n",
       "      <td>5399.80</td>\n",
       "      <td>5400.72</td>\n",
       "      <td>5399.80</td>\n",
       "      <td>2607.77</td>\n",
       "    </tr>\n",
       "    <tr>\n",
       "      <th>Root MSE</th>\n",
       "      <td>7121.74</td>\n",
       "      <td>7122.90</td>\n",
       "      <td>7121.74</td>\n",
       "      <td>4516.77</td>\n",
       "    </tr>\n",
       "  </tbody>\n",
       "</table>\n",
       "</div>"
      ],
      "text/plain": [
       "                    Linear Regression Ridge Regression Lasso Regression  \\\n",
       "R2 Score                       0.6523           0.6522           0.6523   \n",
       "Accuracy(%)                   65.2330          65.2217          65.2330   \n",
       "Mean Squared Error        50719246.91      50735666.76      50719250.76   \n",
       "Mean Absolute Error           5399.80          5400.72          5399.80   \n",
       "Root MSE                      7121.74          7122.90          7121.74   \n",
       "\n",
       "                    Random Forest Regression  \n",
       "R2 Score                              0.8602  \n",
       "Accuracy(%)                          86.0154  \n",
       "Mean Squared Error               20401237.57  \n",
       "Mean Absolute Error                  2607.77  \n",
       "Root MSE                             4516.77  "
      ]
     },
     "execution_count": 61,
     "metadata": {},
     "output_type": "execute_result"
    }
   ],
   "source": [
    "score_data"
   ]
  },
  {
   "cell_type": "markdown",
   "metadata": {},
   "source": [
    "#### Conclusion:\n",
    "\n",
    "Therefore, maximum accuracy score 86.02% with Random Forest Regresssion."
   ]
  },
  {
   "cell_type": "code",
   "execution_count": null,
   "metadata": {},
   "outputs": [],
   "source": []
  }
 ],
 "metadata": {
  "colab": {
   "authorship_tag": "ABX9TyN5nTw6kwrIA1zL4l7MyU/F",
   "mount_file_id": "1zw4ZLjlKV9KNBET-91kLAFBmEnSybElh",
   "provenance": []
  },
  "kernelspec": {
   "display_name": "Python 3 (ipykernel)",
   "language": "python",
   "name": "python3"
  },
  "language_info": {
   "codemirror_mode": {
    "name": "ipython",
    "version": 3
   },
   "file_extension": ".py",
   "mimetype": "text/x-python",
   "name": "python",
   "nbconvert_exporter": "python",
   "pygments_lexer": "ipython3",
   "version": "3.11.1"
  }
 },
 "nbformat": 4,
 "nbformat_minor": 1
}
